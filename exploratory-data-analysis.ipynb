{
 "cells": [
  {
   "cell_type": "markdown",
   "id": "1f37a5ff",
   "metadata": {},
   "source": [
    "# Exploratory Data Analysis"
   ]
  },
  {
   "cell_type": "code",
   "execution_count": 1,
   "id": "9db4e4eb",
   "metadata": {},
   "outputs": [],
   "source": [
    "# import pandas for dealing with dataframes\n",
    "# https://pandas.pydata.org/docs/\n",
    "import pandas as pd\n",
    "\n",
    "# import plotnine (similar to ggplot2) for exploratory charts\n",
    "# https://plotnine.readthedocs.io/en/stable/\n",
    "from plotnine import ggplot"
   ]
  },
  {
   "cell_type": "code",
   "execution_count": 2,
   "id": "804f9cd0",
   "metadata": {},
   "outputs": [],
   "source": [
    "# don't truncate columns when showing dataframes\n",
    "pd.set_option('display.max_columns', None)"
   ]
  },
  {
   "cell_type": "markdown",
   "id": "f3f463da",
   "metadata": {},
   "source": [
    "Let's load some data! \n",
    "\n",
    "FiveThirtyEight's Pollster Ratings data contains a dataset of polls. Let's start with `raw-polls.csv`. The data dictionary is found below. Take a few moments to look at the CSV file (loaded in the cell below) and the data dictionary. Make sure you understand all the columns and exactly how they are calculated.\n",
    "\n",
    "https://github.com/fivethirtyeight/data/tree/master/pollster-ratings\n",
    "\n"
   ]
  },
  {
   "cell_type": "code",
   "execution_count": 12,
   "id": "cb286c9c",
   "metadata": {},
   "outputs": [
    {
     "data": {
      "text/html": [
       "<div>\n",
       "<style scoped>\n",
       "    .dataframe tbody tr th:only-of-type {\n",
       "        vertical-align: middle;\n",
       "    }\n",
       "\n",
       "    .dataframe tbody tr th {\n",
       "        vertical-align: top;\n",
       "    }\n",
       "\n",
       "    .dataframe thead th {\n",
       "        text-align: right;\n",
       "    }\n",
       "</style>\n",
       "<table border=\"1\" class=\"dataframe\">\n",
       "  <thead>\n",
       "    <tr style=\"text-align: right;\">\n",
       "      <th></th>\n",
       "      <th>poll_id</th>\n",
       "      <th>question_id</th>\n",
       "      <th>race_id</th>\n",
       "      <th>year</th>\n",
       "      <th>race</th>\n",
       "      <th>location</th>\n",
       "      <th>type_simple</th>\n",
       "      <th>type_detail</th>\n",
       "      <th>pollster</th>\n",
       "      <th>pollster_rating_id</th>\n",
       "      <th>methodology</th>\n",
       "      <th>partisan</th>\n",
       "      <th>polldate</th>\n",
       "      <th>samplesize</th>\n",
       "      <th>cand1_name</th>\n",
       "      <th>cand1_id</th>\n",
       "      <th>cand1_party</th>\n",
       "      <th>cand1_pct</th>\n",
       "      <th>cand2_name</th>\n",
       "      <th>cand2_id</th>\n",
       "      <th>cand2_party</th>\n",
       "      <th>cand2_pct</th>\n",
       "      <th>cand3_pct</th>\n",
       "      <th>margin_poll</th>\n",
       "      <th>electiondate</th>\n",
       "      <th>cand1_actual</th>\n",
       "      <th>cand2_actual</th>\n",
       "      <th>margin_actual</th>\n",
       "      <th>error</th>\n",
       "      <th>bias</th>\n",
       "      <th>rightcall</th>\n",
       "      <th>advancedplusminus</th>\n",
       "      <th>comment</th>\n",
       "    </tr>\n",
       "  </thead>\n",
       "  <tbody>\n",
       "    <tr>\n",
       "      <th>0</th>\n",
       "      <td>26013</td>\n",
       "      <td>87909</td>\n",
       "      <td>1455</td>\n",
       "      <td>1998</td>\n",
       "      <td>1998_Gov-G_NY</td>\n",
       "      <td>NY</td>\n",
       "      <td>Gov-G</td>\n",
       "      <td>Gov-G</td>\n",
       "      <td>Blum &amp; Weprin Associates</td>\n",
       "      <td>32</td>\n",
       "      <td>Live Phone</td>\n",
       "      <td>NaN</td>\n",
       "      <td>10/13/1998</td>\n",
       "      <td>364.0</td>\n",
       "      <td>Peter Vallone</td>\n",
       "      <td>13080</td>\n",
       "      <td>DEM</td>\n",
       "      <td>26.0</td>\n",
       "      <td>George Pataki</td>\n",
       "      <td>13083</td>\n",
       "      <td>REP</td>\n",
       "      <td>57.0</td>\n",
       "      <td>9.0</td>\n",
       "      <td>-31.0</td>\n",
       "      <td>11/3/1998</td>\n",
       "      <td>33.16</td>\n",
       "      <td>54.32</td>\n",
       "      <td>-21.15</td>\n",
       "      <td>9.85</td>\n",
       "      <td>-9.85</td>\n",
       "      <td>1.0</td>\n",
       "      <td>1.461561</td>\n",
       "      <td>for New York Daily News | WABC-TV (New York)</td>\n",
       "    </tr>\n",
       "    <tr>\n",
       "      <th>1</th>\n",
       "      <td>26255</td>\n",
       "      <td>87926</td>\n",
       "      <td>1456</td>\n",
       "      <td>1998</td>\n",
       "      <td>1998_Gov-G_OH</td>\n",
       "      <td>OH</td>\n",
       "      <td>Gov-G</td>\n",
       "      <td>Gov-G</td>\n",
       "      <td>University of Cincinnati (Ohio Poll)</td>\n",
       "      <td>346</td>\n",
       "      <td>Live Phone</td>\n",
       "      <td>NaN</td>\n",
       "      <td>10/13/1998</td>\n",
       "      <td>540.0</td>\n",
       "      <td>Lee Fisher</td>\n",
       "      <td>13085</td>\n",
       "      <td>DEM</td>\n",
       "      <td>37.0</td>\n",
       "      <td>Bob Taft</td>\n",
       "      <td>13086</td>\n",
       "      <td>REP</td>\n",
       "      <td>52.0</td>\n",
       "      <td>NaN</td>\n",
       "      <td>-15.0</td>\n",
       "      <td>11/3/1998</td>\n",
       "      <td>44.69</td>\n",
       "      <td>50.05</td>\n",
       "      <td>-5.36</td>\n",
       "      <td>9.64</td>\n",
       "      <td>-9.64</td>\n",
       "      <td>1.0</td>\n",
       "      <td>4.285789</td>\n",
       "      <td>NaN</td>\n",
       "    </tr>\n",
       "  </tbody>\n",
       "</table>\n",
       "</div>"
      ],
      "text/plain": [
       "   poll_id  question_id  race_id  year           race location type_simple  \\\n",
       "0    26013        87909     1455  1998  1998_Gov-G_NY       NY       Gov-G   \n",
       "1    26255        87926     1456  1998  1998_Gov-G_OH       OH       Gov-G   \n",
       "\n",
       "  type_detail                              pollster  pollster_rating_id  \\\n",
       "0       Gov-G              Blum & Weprin Associates                  32   \n",
       "1       Gov-G  University of Cincinnati (Ohio Poll)                 346   \n",
       "\n",
       "  methodology partisan    polldate  samplesize     cand1_name  cand1_id  \\\n",
       "0  Live Phone      NaN  10/13/1998       364.0  Peter Vallone     13080   \n",
       "1  Live Phone      NaN  10/13/1998       540.0     Lee Fisher     13085   \n",
       "\n",
       "  cand1_party  cand1_pct     cand2_name  cand2_id cand2_party  cand2_pct  \\\n",
       "0         DEM       26.0  George Pataki     13083         REP       57.0   \n",
       "1         DEM       37.0       Bob Taft     13086         REP       52.0   \n",
       "\n",
       "   cand3_pct  margin_poll electiondate  cand1_actual  cand2_actual  \\\n",
       "0        9.0        -31.0    11/3/1998         33.16         54.32   \n",
       "1        NaN        -15.0    11/3/1998         44.69         50.05   \n",
       "\n",
       "   margin_actual  error  bias  rightcall  advancedplusminus  \\\n",
       "0         -21.15   9.85 -9.85        1.0           1.461561   \n",
       "1          -5.36   9.64 -9.64        1.0           4.285789   \n",
       "\n",
       "                                        comment  \n",
       "0  for New York Daily News | WABC-TV (New York)  \n",
       "1                                           NaN  "
      ]
     },
     "execution_count": 12,
     "metadata": {},
     "output_type": "execute_result"
    }
   ],
   "source": [
    "# Load the data\n",
    "raw_polls_url = \"https://raw.githubusercontent.com/fivethirtyeight/data/master/pollster-ratings/raw-polls.csv\"\n",
    "polls = pd.read_csv(raw_polls_url)\n",
    "\n",
    "polls.head(2)"
   ]
  },
  {
   "cell_type": "markdown",
   "id": "edf94bcc",
   "metadata": {},
   "source": [
    "**ASK!👏LOTS!👏OF!👏QUESTIONS!👏**\n",
    "\n",
    "Questions about:\n",
    "- Where the data came from?\n",
    "- How it was collected?\n",
    "- How many data points?\n",
    "- How are they distributed?\n",
    "- What are the outliers?\n",
    "\n",
    "Some questions can be answered through talking with the data owners/experts. Some questions require analysis. Some questions require visualization. Let's explore using all three of those tools!"
   ]
  },
  {
   "cell_type": "code",
   "execution_count": null,
   "id": "18d720b2",
   "metadata": {},
   "outputs": [],
   "source": [
    "# Question 1: TKTKTK"
   ]
  },
  {
   "cell_type": "code",
   "execution_count": null,
   "id": "312ad850",
   "metadata": {},
   "outputs": [],
   "source": [
    "# Question 2: TKTKTK"
   ]
  },
  {
   "cell_type": "code",
   "execution_count": null,
   "id": "6e5561f6",
   "metadata": {},
   "outputs": [],
   "source": [
    "# Question 3: TKTKTK"
   ]
  },
  {
   "cell_type": "code",
   "execution_count": null,
   "id": "fbb4b0ff",
   "metadata": {},
   "outputs": [],
   "source": [
    "# Question 4: TKTKTK"
   ]
  }
 ],
 "metadata": {
  "kernelspec": {
   "display_name": "Python 3 (ipykernel)",
   "language": "python",
   "name": "python3"
  },
  "language_info": {
   "codemirror_mode": {
    "name": "ipython",
    "version": 3
   },
   "file_extension": ".py",
   "mimetype": "text/x-python",
   "name": "python",
   "nbconvert_exporter": "python",
   "pygments_lexer": "ipython3",
   "version": "3.9.9"
  }
 },
 "nbformat": 4,
 "nbformat_minor": 5
}
